{
 "cells": [
  {
   "cell_type": "markdown",
   "id": "e78e477a",
   "metadata": {},
   "source": [
    "Today we are going to learn about binary search. Binary seach is a fundamental search algorithm that finds a target value in a sorted array. With each iteration of the algorithm, half of the remaining values of the array are eliminated.\n",
    "\n",
    "Let's use this array as an example with a target value, James "
   ]
  },
  {
   "cell_type": "code",
   "execution_count": null,
   "id": "a6cf62e9",
   "metadata": {},
   "outputs": [],
   "source": []
  },
  {
   "cell_type": "code",
   "execution_count": 349,
   "id": "0c1d6952",
   "metadata": {
    "scrolled": false
   },
   "outputs": [
    {
     "data": {
      "text/html": [
       "<table><tr><td></div><font size=\"+1\">index: 0</font></div><div><font size=\"+3\">↓</font></div><img src=friends/Benjamin.jpg width=80>Benjamin</td><td><div style=\"margin-top:72px;\"></div><div></div><img src=friends/Dylan.jpg width=80>Dylan</td><td><div style=\"margin-top:72px;\"></div><div></div><img src=friends/Emma.jpg width=80>Emma</td><td><div style=\"margin-top:72px;\"></div><div></div><img src=friends/Jackson.jpg width=80>Jackson</td><td><div style=\"margin-top:72px;\"></div><div></div><img src=friends/James.jpg width=80>James</td><td><div style=\"margin-top:72px;\"></div><div></div><img src=friends/Lucas.jpg width=80>Lucas</td><td><div style=\"margin-top:72px;\"></div><div></div><img src=friends/Sophie.jpg width=80>Sophie</td><td><div style=\"margin-top:72px;\"></div><div></div><img src=friends/William.jpg width=80>William</td><td><div style=\"margin-top:72px;\"></div><div></div><img src=friends/Zoey.jpg width=80>Zoey</td></tr></table>"
      ],
      "text/plain": [
       "<IPython.core.display.HTML object>"
      ]
     },
     "metadata": {},
     "output_type": "display_data"
    },
    {
     "data": {
      "text/html": [
       "<table><tr><td><div style=\"margin-top:72px;\"></div><div></div><img src=friends/Benjamin.jpg width=80>Benjamin</td><td></div><font size=\"+1\">index: 1</font></div><div><font size=\"+3\">↓</font></div><img src=friends/Dylan.jpg width=80>Dylan</td><td><div style=\"margin-top:72px;\"></div><div></div><img src=friends/Emma.jpg width=80>Emma</td><td><div style=\"margin-top:72px;\"></div><div></div><img src=friends/Jackson.jpg width=80>Jackson</td><td><div style=\"margin-top:72px;\"></div><div></div><img src=friends/James.jpg width=80>James</td><td><div style=\"margin-top:72px;\"></div><div></div><img src=friends/Lucas.jpg width=80>Lucas</td><td><div style=\"margin-top:72px;\"></div><div></div><img src=friends/Sophie.jpg width=80>Sophie</td><td><div style=\"margin-top:72px;\"></div><div></div><img src=friends/William.jpg width=80>William</td><td><div style=\"margin-top:72px;\"></div><div></div><img src=friends/Zoey.jpg width=80>Zoey</td></tr></table>"
      ],
      "text/plain": [
       "<IPython.core.display.HTML object>"
      ]
     },
     "metadata": {},
     "output_type": "display_data"
    },
    {
     "data": {
      "text/html": [
       "<table><tr><td><div style=\"margin-top:72px;\"></div><div></div><img src=friends/Benjamin.jpg width=80>Benjamin</td><td><div style=\"margin-top:72px;\"></div><div></div><img src=friends/Dylan.jpg width=80>Dylan</td><td></div><font size=\"+1\">index: 2</font></div><div><font size=\"+3\">↓</font></div><img src=friends/Emma.jpg width=80>Emma</td><td><div style=\"margin-top:72px;\"></div><div></div><img src=friends/Jackson.jpg width=80>Jackson</td><td><div style=\"margin-top:72px;\"></div><div></div><img src=friends/James.jpg width=80>James</td><td><div style=\"margin-top:72px;\"></div><div></div><img src=friends/Lucas.jpg width=80>Lucas</td><td><div style=\"margin-top:72px;\"></div><div></div><img src=friends/Sophie.jpg width=80>Sophie</td><td><div style=\"margin-top:72px;\"></div><div></div><img src=friends/William.jpg width=80>William</td><td><div style=\"margin-top:72px;\"></div><div></div><img src=friends/Zoey.jpg width=80>Zoey</td></tr></table>"
      ],
      "text/plain": [
       "<IPython.core.display.HTML object>"
      ]
     },
     "metadata": {},
     "output_type": "display_data"
    },
    {
     "data": {
      "text/html": [
       "<table><tr><td><div style=\"margin-top:72px;\"></div><div></div><img src=friends/Benjamin.jpg width=80>Benjamin</td><td><div style=\"margin-top:72px;\"></div><div></div><img src=friends/Dylan.jpg width=80>Dylan</td><td><div style=\"margin-top:72px;\"></div><div></div><img src=friends/Emma.jpg width=80>Emma</td><td></div><font size=\"+1\">index: 3</font></div><div><font size=\"+3\">↓</font></div><img src=friends/Jackson.jpg width=80>Jackson</td><td><div style=\"margin-top:72px;\"></div><div></div><img src=friends/James.jpg width=80>James</td><td><div style=\"margin-top:72px;\"></div><div></div><img src=friends/Lucas.jpg width=80>Lucas</td><td><div style=\"margin-top:72px;\"></div><div></div><img src=friends/Sophie.jpg width=80>Sophie</td><td><div style=\"margin-top:72px;\"></div><div></div><img src=friends/William.jpg width=80>William</td><td><div style=\"margin-top:72px;\"></div><div></div><img src=friends/Zoey.jpg width=80>Zoey</td></tr></table>"
      ],
      "text/plain": [
       "<IPython.core.display.HTML object>"
      ]
     },
     "metadata": {},
     "output_type": "display_data"
    },
    {
     "data": {
      "text/html": [
       "<table><tr><td><div style=\"margin-top:72px;\"></div><div></div><img src=friends/Benjamin.jpg width=80>Benjamin</td><td><div style=\"margin-top:72px;\"></div><div></div><img src=friends/Dylan.jpg width=80>Dylan</td><td><div style=\"margin-top:72px;\"></div><div></div><img src=friends/Emma.jpg width=80>Emma</td><td><div style=\"margin-top:72px;\"></div><div></div><img src=friends/Jackson.jpg width=80>Jackson</td><td></div><font size=\"+1\">index: 4</font></div><div><font size=\"+3\">↓</font></div><img src=friends/James.jpg width=80>James</td><td><div style=\"margin-top:72px;\"></div><div></div><img src=friends/Lucas.jpg width=80>Lucas</td><td><div style=\"margin-top:72px;\"></div><div></div><img src=friends/Sophie.jpg width=80>Sophie</td><td><div style=\"margin-top:72px;\"></div><div></div><img src=friends/William.jpg width=80>William</td><td><div style=\"margin-top:72px;\"></div><div></div><img src=friends/Zoey.jpg width=80>Zoey</td></tr></table>"
      ],
      "text/plain": [
       "<IPython.core.display.HTML object>"
      ]
     },
     "metadata": {},
     "output_type": "display_data"
    },
    {
     "data": {
      "text/html": [
       "<table><tr><td><div style=\"margin-top:72px;\"></div><div></div><img src=friends/Benjamin.jpg width=80>Benjamin</td><td><div style=\"margin-top:72px;\"></div><div></div><img src=friends/Dylan.jpg width=80>Dylan</td><td><div style=\"margin-top:72px;\"></div><div></div><img src=friends/Emma.jpg width=80>Emma</td><td><div style=\"margin-top:72px;\"></div><div></div><img src=friends/Jackson.jpg width=80>Jackson</td><td><div style=\"margin-top:72px;\"></div><div></div><img src=friends/James.jpg width=80>James</td><td></div><font size=\"+1\">index: 5</font></div><div><font size=\"+3\">↓</font></div><img src=friends/Lucas.jpg width=80>Lucas</td><td><div style=\"margin-top:72px;\"></div><div></div><img src=friends/Sophie.jpg width=80>Sophie</td><td><div style=\"margin-top:72px;\"></div><div></div><img src=friends/William.jpg width=80>William</td><td><div style=\"margin-top:72px;\"></div><div></div><img src=friends/Zoey.jpg width=80>Zoey</td></tr></table>"
      ],
      "text/plain": [
       "<IPython.core.display.HTML object>"
      ]
     },
     "metadata": {},
     "output_type": "display_data"
    },
    {
     "data": {
      "text/html": [
       "<table><tr><td><div style=\"margin-top:72px;\"></div><div></div><img src=friends/Benjamin.jpg width=80>Benjamin</td><td><div style=\"margin-top:72px;\"></div><div></div><img src=friends/Dylan.jpg width=80>Dylan</td><td><div style=\"margin-top:72px;\"></div><div></div><img src=friends/Emma.jpg width=80>Emma</td><td><div style=\"margin-top:72px;\"></div><div></div><img src=friends/Jackson.jpg width=80>Jackson</td><td><div style=\"margin-top:72px;\"></div><div></div><img src=friends/James.jpg width=80>James</td><td><div style=\"margin-top:72px;\"></div><div></div><img src=friends/Lucas.jpg width=80>Lucas</td><td></div><font size=\"+1\">index: 6</font></div><div><font size=\"+3\">↓</font></div><img src=friends/Sophie.jpg width=80>Sophie</td><td><div style=\"margin-top:72px;\"></div><div></div><img src=friends/William.jpg width=80>William</td><td><div style=\"margin-top:72px;\"></div><div></div><img src=friends/Zoey.jpg width=80>Zoey</td></tr></table>"
      ],
      "text/plain": [
       "<IPython.core.display.HTML object>"
      ]
     },
     "metadata": {},
     "output_type": "display_data"
    },
    {
     "data": {
      "text/html": [
       "<table><tr><td><div style=\"margin-top:72px;\"></div><div></div><img src=friends/Benjamin.jpg width=80>Benjamin</td><td><div style=\"margin-top:72px;\"></div><div></div><img src=friends/Dylan.jpg width=80>Dylan</td><td><div style=\"margin-top:72px;\"></div><div></div><img src=friends/Emma.jpg width=80>Emma</td><td><div style=\"margin-top:72px;\"></div><div></div><img src=friends/Jackson.jpg width=80>Jackson</td><td><div style=\"margin-top:72px;\"></div><div></div><img src=friends/James.jpg width=80>James</td><td><div style=\"margin-top:72px;\"></div><div></div><img src=friends/Lucas.jpg width=80>Lucas</td><td><div style=\"margin-top:72px;\"></div><div></div><img src=friends/Sophie.jpg width=80>Sophie</td><td></div><font size=\"+1\">index: 7</font></div><div><font size=\"+3\">↓</font></div><img src=friends/William.jpg width=80>William</td><td><div style=\"margin-top:72px;\"></div><div></div><img src=friends/Zoey.jpg width=80>Zoey</td></tr></table>"
      ],
      "text/plain": [
       "<IPython.core.display.HTML object>"
      ]
     },
     "metadata": {},
     "output_type": "display_data"
    },
    {
     "data": {
      "text/html": [
       "<table><tr><td><div style=\"margin-top:72px;\"></div><div></div><img src=friends/Benjamin.jpg width=80>Benjamin</td><td><div style=\"margin-top:72px;\"></div><div></div><img src=friends/Dylan.jpg width=80>Dylan</td><td><div style=\"margin-top:72px;\"></div><div></div><img src=friends/Emma.jpg width=80>Emma</td><td><div style=\"margin-top:72px;\"></div><div></div><img src=friends/Jackson.jpg width=80>Jackson</td><td><div style=\"margin-top:72px;\"></div><div></div><img src=friends/James.jpg width=80>James</td><td><div style=\"margin-top:72px;\"></div><div></div><img src=friends/Lucas.jpg width=80>Lucas</td><td><div style=\"margin-top:72px;\"></div><div></div><img src=friends/Sophie.jpg width=80>Sophie</td><td><div style=\"margin-top:72px;\"></div><div></div><img src=friends/William.jpg width=80>William</td><td></div><font size=\"+1\">index: 8</font></div><div><font size=\"+3\">↓</font></div><img src=friends/Zoey.jpg width=80>Zoey</td></tr></table>"
      ],
      "text/plain": [
       "<IPython.core.display.HTML object>"
      ]
     },
     "metadata": {},
     "output_type": "display_data"
    },
    {
     "data": {
      "text/html": [
       "<table><tr><td><div style=\"margin-top:72px;\"></div><div></div><img src=friends/Benjamin.jpg width=80>Benjamin</td><td><div style=\"margin-top:72px;\"></div><div></div><img src=friends/Dylan.jpg width=80>Dylan</td><td><div style=\"margin-top:72px;\"></div><div></div><img src=friends/Emma.jpg width=80>Emma</td><td><div style=\"margin-top:72px;\"></div><div></div><img src=friends/Jackson.jpg width=80>Jackson</td><td><div style=\"margin-top:72px;\"></div><div></div><img src=friends/James.jpg width=80>James</td><td><div style=\"margin-top:72px;\"></div><div></div><img src=friends/Lucas.jpg width=80>Lucas</td><td><div style=\"margin-top:72px;\"></div><div></div><img src=friends/Sophie.jpg width=80>Sophie</td><td><div style=\"margin-top:72px;\"></div><div></div><img src=friends/William.jpg width=80>William</td><td><div style=\"margin-top:72px;\"></div><div></div><img src=friends/Zoey.jpg width=80>Zoey</td></tr></table>"
      ],
      "text/plain": [
       "<IPython.core.display.HTML object>"
      ]
     },
     "metadata": {},
     "output_type": "display_data"
    }
   ],
   "source": [
    "import time\n",
    "from IPython.display import Image, HTML, display, clear_output\n",
    "    \n",
    "friends = ['Lucas', 'James', 'William', 'Jackson', 'Benjamin','Emma', 'Sophie', 'Dylan', 'Zoey']\n",
    "friends.sort()\n",
    "\n",
    "\n",
    "def mark_friend_animated(index):\n",
    "    clear_output(wait=True)\n",
    "    mark_friend(index)\n",
    "    time.sleep(1)\n",
    "    \n",
    "def mark_friend(index):\n",
    "    table = '<table><tr>'\n",
    "    for i, friend in enumerate(friends):\n",
    "        if i == index:\n",
    "            table += '<td></div><font size=\"+1\">index: {}</font></div><div><font size=\"+3\">↓</font></div><img src={} width=80>{}</td>'.format(index, get_path(friend), friend)\n",
    "        else:\n",
    "            table += '<td><div style=\"margin-top:72px;\"></div><div></div><img src={} width=80>{}</td>'.format('friends/{}.jpg'.format(friend), friend)\n",
    "    table += '</tr></table>'\n",
    "    return display(HTML(table))\n",
    "    \n",
    "    \n",
    "def linear_search(name):\n",
    "    for i in range(len(punks)):\n",
    "        mark_friend(i)\n",
    "        if punks[i] == name:\n",
    "            return\n",
    "\n",
    "linear_search('zoey')"
   ]
  },
  {
   "cell_type": "code",
   "execution_count": null,
   "id": "d26e8c18",
   "metadata": {},
   "outputs": [],
   "source": []
  },
  {
   "cell_type": "code",
   "execution_count": 346,
   "id": "efdbebd8",
   "metadata": {
    "scrolled": false
   },
   "outputs": [
    {
     "data": {
      "text/html": [
       "<table><tr><td><div style=\"margin-top:72px;\"></div><div></div><img src=friends/Benjamin.jpg width=80>Benjamin</td><td><div style=\"margin-top:72px;\"></div><div></div><img src=friends/Dylan.jpg width=80>Dylan</td><td><div style=\"margin-top:72px;\"></div><div></div><img src=friends/Emma.jpg width=80>Emma</td><td><div style=\"margin-top:72px;\"></div><div></div><img src=friends/Jackson.jpg width=80>Jackson</td><td></div><font size=\"+1\">index: 4</font></div><div><font size=\"+3\">↓</font></div><img src=friends/James.jpg width=80>James</td><td><div style=\"margin-top:72px;\"></div><div></div><img src=friends/Lucas.jpg width=80>Lucas</td><td><div style=\"margin-top:72px;\"></div><div></div><img src=friends/Sophie.jpg width=80>Sophie</td><td><div style=\"margin-top:72px;\"></div><div></div><img src=friends/William.jpg width=80>William</td><td><div style=\"margin-top:72px;\"></div><div></div><img src=friends/Zoey.jpg width=80>Zoey</td></tr></table>"
      ],
      "text/plain": [
       "<IPython.core.display.HTML object>"
      ]
     },
     "metadata": {},
     "output_type": "display_data"
    },
    {
     "data": {
      "text/html": [
       "<table><tr><td><div style=\"margin-top:72px;\"></div><div></div><img src=friends/Benjamin.jpg width=80>Benjamin</td><td></div><font size=\"+1\">index: 1</font></div><div><font size=\"+3\">↓</font></div><img src=friends/Dylan.jpg width=80>Dylan</td><td><div style=\"margin-top:72px;\"></div><div></div><img src=friends/Emma.jpg width=80>Emma</td><td><div style=\"margin-top:72px;\"></div><div></div><img src=friends/Jackson.jpg width=80>Jackson</td><td><div style=\"margin-top:72px;\"></div><div></div><img src=friends/James.jpg width=80>James</td><td><div style=\"margin-top:72px;\"></div><div></div><img src=friends/Lucas.jpg width=80>Lucas</td><td><div style=\"margin-top:72px;\"></div><div></div><img src=friends/Sophie.jpg width=80>Sophie</td><td><div style=\"margin-top:72px;\"></div><div></div><img src=friends/William.jpg width=80>William</td><td><div style=\"margin-top:72px;\"></div><div></div><img src=friends/Zoey.jpg width=80>Zoey</td></tr></table>"
      ],
      "text/plain": [
       "<IPython.core.display.HTML object>"
      ]
     },
     "metadata": {},
     "output_type": "display_data"
    },
    {
     "data": {
      "text/html": [
       "<table><tr><td><div style=\"margin-top:72px;\"></div><div></div><img src=friends/Benjamin.jpg width=80>Benjamin</td><td><div style=\"margin-top:72px;\"></div><div></div><img src=friends/Dylan.jpg width=80>Dylan</td><td></div><font size=\"+1\">index: 2</font></div><div><font size=\"+3\">↓</font></div><img src=friends/Emma.jpg width=80>Emma</td><td><div style=\"margin-top:72px;\"></div><div></div><img src=friends/Jackson.jpg width=80>Jackson</td><td><div style=\"margin-top:72px;\"></div><div></div><img src=friends/James.jpg width=80>James</td><td><div style=\"margin-top:72px;\"></div><div></div><img src=friends/Lucas.jpg width=80>Lucas</td><td><div style=\"margin-top:72px;\"></div><div></div><img src=friends/Sophie.jpg width=80>Sophie</td><td><div style=\"margin-top:72px;\"></div><div></div><img src=friends/William.jpg width=80>William</td><td><div style=\"margin-top:72px;\"></div><div></div><img src=friends/Zoey.jpg width=80>Zoey</td></tr></table>"
      ],
      "text/plain": [
       "<IPython.core.display.HTML object>"
      ]
     },
     "metadata": {},
     "output_type": "display_data"
    },
    {
     "data": {
      "text/html": [
       "<table><tr><td><div style=\"margin-top:72px;\"></div><div></div><img src=friends/Benjamin.jpg width=80>Benjamin</td><td><div style=\"margin-top:72px;\"></div><div></div><img src=friends/Dylan.jpg width=80>Dylan</td><td><div style=\"margin-top:72px;\"></div><div></div><img src=friends/Emma.jpg width=80>Emma</td><td></div><font size=\"+1\">index: 3</font></div><div><font size=\"+3\">↓</font></div><img src=friends/Jackson.jpg width=80>Jackson</td><td><div style=\"margin-top:72px;\"></div><div></div><img src=friends/James.jpg width=80>James</td><td><div style=\"margin-top:72px;\"></div><div></div><img src=friends/Lucas.jpg width=80>Lucas</td><td><div style=\"margin-top:72px;\"></div><div></div><img src=friends/Sophie.jpg width=80>Sophie</td><td><div style=\"margin-top:72px;\"></div><div></div><img src=friends/William.jpg width=80>William</td><td><div style=\"margin-top:72px;\"></div><div></div><img src=friends/Zoey.jpg width=80>Zoey</td></tr></table>"
      ],
      "text/plain": [
       "<IPython.core.display.HTML object>"
      ]
     },
     "metadata": {},
     "output_type": "display_data"
    },
    {
     "data": {
      "text/plain": [
       "3"
      ]
     },
     "execution_count": 346,
     "metadata": {},
     "output_type": "execute_result"
    }
   ],
   "source": [
    "def binary_search(x):\n",
    "    left = 0\n",
    "    right = len(friends) - 1\n",
    "    middle = 0\n",
    " \n",
    "    while left <= right:\n",
    " \n",
    "        middle = (right + left) // 2\n",
    "        mark_friend(middle)\n",
    " \n",
    "        # If x is greater, ignore left half\n",
    "        if friends[middle] < x:\n",
    "            left = middle + 1\n",
    " \n",
    "        # If x is smaller, ignore right half\n",
    "        elif friends[middle] > x:\n",
    "            right = middle - 1\n",
    " \n",
    "        # means x is present at mid\n",
    "        else:\n",
    "            return middle\n",
    " \n",
    "    # If we reach here, then the element was not present\n",
    "    return -1\n",
    "    \n",
    "binary_search('Jackson')\n"
   ]
  },
  {
   "cell_type": "markdown",
   "id": "a6cd042d",
   "metadata": {},
   "source": [
    "- Calculate the `middle` of the array by adding up `left + right // 2` = `(0 + 9) // 2` = 4\n",
    "- James is greater than Jackson so we assign `right` pointer to `middle - 1` = 3\n",
    "- Calculate the new `middle` of the array to be `left + right // 2` = `(0 + 3) // 2` = 1"
   ]
  },
  {
   "cell_type": "code",
   "execution_count": 347,
   "id": "5b48c1f7",
   "metadata": {},
   "outputs": [
    {
     "data": {
      "text/plain": [
       "1"
      ]
     },
     "execution_count": 347,
     "metadata": {},
     "output_type": "execute_result"
    }
   ],
   "source": [
    "3 // 2"
   ]
  },
  {
   "cell_type": "code",
   "execution_count": null,
   "id": "1e5ea9cd",
   "metadata": {},
   "outputs": [],
   "source": []
  }
 ],
 "metadata": {
  "kernelspec": {
   "display_name": "Python 3 (ipykernel)",
   "language": "python",
   "name": "python3"
  },
  "language_info": {
   "codemirror_mode": {
    "name": "ipython",
    "version": 3
   },
   "file_extension": ".py",
   "mimetype": "text/x-python",
   "name": "python",
   "nbconvert_exporter": "python",
   "pygments_lexer": "ipython3",
   "version": "3.11.2"
  }
 },
 "nbformat": 4,
 "nbformat_minor": 5
}
