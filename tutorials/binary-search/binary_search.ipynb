{
 "cells": [
  {
   "cell_type": "code",
   "execution_count": 199,
   "id": "0c1d6952",
   "metadata": {
    "scrolled": false
   },
   "outputs": [
    {
     "data": {
      "text/html": [
       "<table><tr><td><font size=\"+3\">↓</font><img src=binary_search/beanie.jpg width=80>beanie</td><td><div style=\"margin-top:51px;\"></div><div></div><img src=binary_search/bed_head.jpg width=80>bed_head</td><td><div style=\"margin-top:51px;\"></div><div></div><img src=binary_search/black_beard.jpg width=80>black_beard</td><td><div style=\"margin-top:51px;\"></div><div></div><img src=binary_search/blonde_bob.jpg width=80>blonde_bob</td><td><div style=\"margin-top:51px;\"></div><div></div><img src=binary_search/brown_beard.jpg width=80>brown_beard</td><td><div style=\"margin-top:51px;\"></div><div></div><img src=binary_search/green_eyes.jpg width=80>green_eyes</td><td><div style=\"margin-top:51px;\"></div><div></div><img src=binary_search/mohawk.jpg width=80>mohawk</td><td><div style=\"margin-top:51px;\"></div><div></div><img src=binary_search/pipe.jpg width=80>pipe</td><td><div style=\"margin-top:51px;\"></div><div></div><img src=binary_search/sunglasses.jpg width=80>sunglasses</td><td><div style=\"margin-top:51px;\"></div><div></div><img src=binary_search/white_hair.jpg width=80>white_hair</td></tr></table>"
      ],
      "text/plain": [
       "<IPython.core.display.HTML object>"
      ]
     },
     "metadata": {},
     "output_type": "display_data"
    },
    {
     "data": {
      "text/html": [
       "<table><tr><td><div style=\"margin-top:51px;\"></div><div></div><img src=binary_search/beanie.jpg width=80>beanie</td><td><font size=\"+3\">↓</font><img src=binary_search/bed_head.jpg width=80>bed_head</td><td><div style=\"margin-top:51px;\"></div><div></div><img src=binary_search/black_beard.jpg width=80>black_beard</td><td><div style=\"margin-top:51px;\"></div><div></div><img src=binary_search/blonde_bob.jpg width=80>blonde_bob</td><td><div style=\"margin-top:51px;\"></div><div></div><img src=binary_search/brown_beard.jpg width=80>brown_beard</td><td><div style=\"margin-top:51px;\"></div><div></div><img src=binary_search/green_eyes.jpg width=80>green_eyes</td><td><div style=\"margin-top:51px;\"></div><div></div><img src=binary_search/mohawk.jpg width=80>mohawk</td><td><div style=\"margin-top:51px;\"></div><div></div><img src=binary_search/pipe.jpg width=80>pipe</td><td><div style=\"margin-top:51px;\"></div><div></div><img src=binary_search/sunglasses.jpg width=80>sunglasses</td><td><div style=\"margin-top:51px;\"></div><div></div><img src=binary_search/white_hair.jpg width=80>white_hair</td></tr></table>"
      ],
      "text/plain": [
       "<IPython.core.display.HTML object>"
      ]
     },
     "metadata": {},
     "output_type": "display_data"
    },
    {
     "data": {
      "text/html": [
       "<table><tr><td><div style=\"margin-top:51px;\"></div><div></div><img src=binary_search/beanie.jpg width=80>beanie</td><td><div style=\"margin-top:51px;\"></div><div></div><img src=binary_search/bed_head.jpg width=80>bed_head</td><td><font size=\"+3\">↓</font><img src=binary_search/black_beard.jpg width=80>black_beard</td><td><div style=\"margin-top:51px;\"></div><div></div><img src=binary_search/blonde_bob.jpg width=80>blonde_bob</td><td><div style=\"margin-top:51px;\"></div><div></div><img src=binary_search/brown_beard.jpg width=80>brown_beard</td><td><div style=\"margin-top:51px;\"></div><div></div><img src=binary_search/green_eyes.jpg width=80>green_eyes</td><td><div style=\"margin-top:51px;\"></div><div></div><img src=binary_search/mohawk.jpg width=80>mohawk</td><td><div style=\"margin-top:51px;\"></div><div></div><img src=binary_search/pipe.jpg width=80>pipe</td><td><div style=\"margin-top:51px;\"></div><div></div><img src=binary_search/sunglasses.jpg width=80>sunglasses</td><td><div style=\"margin-top:51px;\"></div><div></div><img src=binary_search/white_hair.jpg width=80>white_hair</td></tr></table>"
      ],
      "text/plain": [
       "<IPython.core.display.HTML object>"
      ]
     },
     "metadata": {},
     "output_type": "display_data"
    },
    {
     "data": {
      "text/html": [
       "<table><tr><td><div style=\"margin-top:51px;\"></div><div></div><img src=binary_search/beanie.jpg width=80>beanie</td><td><div style=\"margin-top:51px;\"></div><div></div><img src=binary_search/bed_head.jpg width=80>bed_head</td><td><div style=\"margin-top:51px;\"></div><div></div><img src=binary_search/black_beard.jpg width=80>black_beard</td><td><font size=\"+3\">↓</font><img src=binary_search/blonde_bob.jpg width=80>blonde_bob</td><td><div style=\"margin-top:51px;\"></div><div></div><img src=binary_search/brown_beard.jpg width=80>brown_beard</td><td><div style=\"margin-top:51px;\"></div><div></div><img src=binary_search/green_eyes.jpg width=80>green_eyes</td><td><div style=\"margin-top:51px;\"></div><div></div><img src=binary_search/mohawk.jpg width=80>mohawk</td><td><div style=\"margin-top:51px;\"></div><div></div><img src=binary_search/pipe.jpg width=80>pipe</td><td><div style=\"margin-top:51px;\"></div><div></div><img src=binary_search/sunglasses.jpg width=80>sunglasses</td><td><div style=\"margin-top:51px;\"></div><div></div><img src=binary_search/white_hair.jpg width=80>white_hair</td></tr></table>"
      ],
      "text/plain": [
       "<IPython.core.display.HTML object>"
      ]
     },
     "metadata": {},
     "output_type": "display_data"
    },
    {
     "data": {
      "text/html": [
       "<table><tr><td><div style=\"margin-top:51px;\"></div><div></div><img src=binary_search/beanie.jpg width=80>beanie</td><td><div style=\"margin-top:51px;\"></div><div></div><img src=binary_search/bed_head.jpg width=80>bed_head</td><td><div style=\"margin-top:51px;\"></div><div></div><img src=binary_search/black_beard.jpg width=80>black_beard</td><td><div style=\"margin-top:51px;\"></div><div></div><img src=binary_search/blonde_bob.jpg width=80>blonde_bob</td><td><font size=\"+3\">↓</font><img src=binary_search/brown_beard.jpg width=80>brown_beard</td><td><div style=\"margin-top:51px;\"></div><div></div><img src=binary_search/green_eyes.jpg width=80>green_eyes</td><td><div style=\"margin-top:51px;\"></div><div></div><img src=binary_search/mohawk.jpg width=80>mohawk</td><td><div style=\"margin-top:51px;\"></div><div></div><img src=binary_search/pipe.jpg width=80>pipe</td><td><div style=\"margin-top:51px;\"></div><div></div><img src=binary_search/sunglasses.jpg width=80>sunglasses</td><td><div style=\"margin-top:51px;\"></div><div></div><img src=binary_search/white_hair.jpg width=80>white_hair</td></tr></table>"
      ],
      "text/plain": [
       "<IPython.core.display.HTML object>"
      ]
     },
     "metadata": {},
     "output_type": "display_data"
    },
    {
     "data": {
      "image/jpeg": "[encoded data removed]",
      "text/plain": [
       "<IPython.core.display.Image object>"
      ]
     },
     "metadata": {},
     "output_type": "display_data"
    }
   ],
   "source": [
    "from IPython.display import Image, HTML, display\n",
    "\n",
    "def show_punk(name):\n",
    "    display(Image(filename=get_path(name)))\n",
    "    \n",
    "def get_path(filename):\n",
    "    return 'binary_search/{}.jpg'.format(filename)\n",
    "    \n",
    "punks = [\n",
    " 'blonde_bob', \n",
    " 'mohawk', \n",
    " 'bed_head', \n",
    " 'pipe', \n",
    " 'sunglasses', \n",
    " 'beanie', \n",
    " 'white_hair', \n",
    " 'black_beard',\n",
    " 'brown_beard',\n",
    " 'green_eyes'\n",
    "]\n",
    "\n",
    "punks.sort()\n",
    "\n",
    "def show_punks(punks, marker):\n",
    "    table = '<table><tr>'\n",
    "    for index, punk in enumerate(punks):\n",
    "        if index == marker:\n",
    "            table += '<td><font size=\"+3\">↓</font><img src={} width=80>{}</td>'.format(get_path(punk), punk)\n",
    "        else:\n",
    "            table += '<td><div style=\"margin-top:51px;\"></div><div></div><img src={} width=80>{}</td>'.format(get_path(punk), punk)\n",
    "    table += '</tr></table>'\n",
    "    display(HTML(table))\n",
    "    \n",
    "\n",
    "    \n",
    "def linear_search(name):\n",
    "    for i in range(len(punks)):\n",
    "        show_punks(punks, i)\n",
    "        if punks[i] == name:\n",
    "            show_punk(punks[i])\n",
    "            return\n",
    "\n",
    "linear_search('brown_beard')\n",
    "\n",
    "\n"
   ]
  },
  {
   "cell_type": "code",
   "execution_count": 233,
   "id": "a03d232a",
   "metadata": {
    "scrolled": false
   },
   "outputs": [
    {
     "data": {
      "text/html": [
       "<table><tr><td><div style=\"margin-top:51px;\"></div><div></div><img src=binary_search/beanie.jpg width=80>beanie</td><td><div style=\"margin-top:51px;\"></div><div></div><img src=binary_search/bed_head.jpg width=80>bed_head</td><td><div style=\"margin-top:51px;\"></div><div></div><img src=binary_search/black_beard.jpg width=80>black_beard</td><td><div style=\"margin-top:51px;\"></div><div></div><img src=binary_search/blonde_bob.jpg width=80>blonde_bob</td><td><font size=\"+3\">↓</font><img src=binary_search/brown_beard.jpg width=80>brown_beard</td><td><div style=\"margin-top:51px;\"></div><div></div><img src=binary_search/green_eyes.jpg width=80>green_eyes</td><td><div style=\"margin-top:51px;\"></div><div></div><img src=binary_search/mohawk.jpg width=80>mohawk</td><td><div style=\"margin-top:51px;\"></div><div></div><img src=binary_search/pipe.jpg width=80>pipe</td><td><div style=\"margin-top:51px;\"></div><div></div><img src=binary_search/sunglasses.jpg width=80>sunglasses</td><td><div style=\"margin-top:51px;\"></div><div></div><img src=binary_search/white_hair.jpg width=80>white_hair</td></tr></table>"
      ],
      "text/plain": [
       "<IPython.core.display.HTML object>"
      ]
     },
     "metadata": {},
     "output_type": "display_data"
    },
    {
     "data": {
      "text/html": [
       "<table><tr><td><div style=\"margin-top:51px;\"></div><div></div><img src=binary_search/beanie.jpg width=80>beanie</td><td><div style=\"margin-top:51px;\"></div><div></div><img src=binary_search/bed_head.jpg width=80>bed_head</td><td><font size=\"+3\">↓</font><img src=binary_search/black_beard.jpg width=80>black_beard</td><td><div style=\"margin-top:51px;\"></div><div></div><img src=binary_search/blonde_bob.jpg width=80>blonde_bob</td><td><div style=\"margin-top:51px;\"></div><div></div><img src=binary_search/brown_beard.jpg width=80>brown_beard</td><td><div style=\"margin-top:51px;\"></div><div></div><img src=binary_search/green_eyes.jpg width=80>green_eyes</td><td><div style=\"margin-top:51px;\"></div><div></div><img src=binary_search/mohawk.jpg width=80>mohawk</td><td><div style=\"margin-top:51px;\"></div><div></div><img src=binary_search/pipe.jpg width=80>pipe</td><td><div style=\"margin-top:51px;\"></div><div></div><img src=binary_search/sunglasses.jpg width=80>sunglasses</td><td><div style=\"margin-top:51px;\"></div><div></div><img src=binary_search/white_hair.jpg width=80>white_hair</td></tr></table>"
      ],
      "text/plain": [
       "<IPython.core.display.HTML object>"
      ]
     },
     "metadata": {},
     "output_type": "display_data"
    },
    {
     "data": {
      "text/html": [
       "<table><tr><td><div style=\"margin-top:51px;\"></div><div></div><img src=binary_search/beanie.jpg width=80>beanie</td><td><div style=\"margin-top:51px;\"></div><div></div><img src=binary_search/bed_head.jpg width=80>bed_head</td><td><div style=\"margin-top:51px;\"></div><div></div><img src=binary_search/black_beard.jpg width=80>black_beard</td><td><font size=\"+3\">↓</font><img src=binary_search/blonde_bob.jpg width=80>blonde_bob</td><td><div style=\"margin-top:51px;\"></div><div></div><img src=binary_search/brown_beard.jpg width=80>brown_beard</td><td><div style=\"margin-top:51px;\"></div><div></div><img src=binary_search/green_eyes.jpg width=80>green_eyes</td><td><div style=\"margin-top:51px;\"></div><div></div><img src=binary_search/mohawk.jpg width=80>mohawk</td><td><div style=\"margin-top:51px;\"></div><div></div><img src=binary_search/pipe.jpg width=80>pipe</td><td><div style=\"margin-top:51px;\"></div><div></div><img src=binary_search/sunglasses.jpg width=80>sunglasses</td><td><div style=\"margin-top:51px;\"></div><div></div><img src=binary_search/white_hair.jpg width=80>white_hair</td></tr></table>"
      ],
      "text/plain": [
       "<IPython.core.display.HTML object>"
      ]
     },
     "metadata": {},
     "output_type": "display_data"
    },
    {
     "name": "stdout",
     "output_type": "stream",
     "text": [
      "Found At Index 3\n"
     ]
    }
   ],
   "source": [
    "def binary_search(v, To_Find):\n",
    "    lo = 0\n",
    "    hi = len(v) - 1\n",
    " \n",
    "    while hi - lo > 1:\n",
    "        mid = (hi + lo) // 2\n",
    "        show_punks(punks, mid)\n",
    "        if v[mid] < To_Find:\n",
    "            lo = mid + 1\n",
    "            if v[lo] != To_Find:\n",
    "                show_punks(punks, lo)\n",
    "        else:\n",
    "            hi = mid \n",
    "    if v[lo] == To_Find:\n",
    "        show_punks(punks, lo)\n",
    "        print(\"Found At Index\", lo)\n",
    "    elif v[hi] == To_Find:\n",
    "        print(\"Found At Index\", hi)\n",
    "    else:\n",
    "        print(\"Not Found\")\n",
    "    \n",
    "\n",
    "# for punk in punks:\n",
    "#     binary_search(punks, punk)\n",
    "\n",
    "binary_search(punks, 'blonde_bob')"
   ]
  },
  {
   "cell_type": "code",
   "execution_count": null,
   "id": "36392250",
   "metadata": {},
   "outputs": [],
   "source": []
  }
 ],
 "metadata": {
  "kernelspec": {
   "display_name": "Python 3 (ipykernel)",
   "language": "python",
   "name": "python3"
  },
  "language_info": {
   "codemirror_mode": {
    "name": "ipython",
    "version": 3
   },
   "file_extension": ".py",
   "mimetype": "text/x-python",
   "name": "python",
   "nbconvert_exporter": "python",
   "pygments_lexer": "ipython3",
   "version": "3.11.2"
  }
 },
 "nbformat": 4,
 "nbformat_minor": 5
}
