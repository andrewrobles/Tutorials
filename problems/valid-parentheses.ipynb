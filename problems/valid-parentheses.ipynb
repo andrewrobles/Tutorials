{
 "cells": [
  {
   "cell_type": "markdown",
   "id": "3b1f822f",
   "metadata": {},
   "source": [
    "# Valid Parentheses\n",
    "\n",
    "Given a string s containing just the characters `'('`, `')'`, `'{'`, `'}'`, `'['`, `']'`, determine if the input string is valid.\n",
    "\n",
    "An input string is valid if:\n",
    "\n",
    "Open brackets must be closed by the same type of brackets.\n",
    "\n",
    "Open brackets must be closed in the correct order.\n",
    "\n",
    "Every close bracket has a corresponding open bracket of the same type.\n",
    "\n",
    "\n",
    "### Example 1:\n",
    "```\n",
    "Input: s = \"()\"\n",
    "Output: true\n",
    "```\n",
    "\n",
    "### Example 2:\n",
    "\n",
    "```\n",
    "Input: s = \"()[]{}\"\n",
    "Output: true\n",
    "```\n",
    "\n",
    "### Example 3:\n",
    "\n",
    "```\n",
    "Input: s = \"(]\"\n",
    "Output: false\n",
    "```"
   ]
  },
  {
   "cell_type": "code",
   "execution_count": 2,
   "id": "6b620a7e",
   "metadata": {
    "scrolled": true
   },
   "outputs": [
    {
     "name": "stderr",
     "output_type": "stream",
     "text": [
      "test_case_1 (__main__.TestTwoSum.test_case_1) ... ok\n",
      "test_case_2 (__main__.TestTwoSum.test_case_2) ... ok\n",
      "test_case_3 (__main__.TestTwoSum.test_case_3) ... ok\n",
      "\n",
      "----------------------------------------------------------------------\n",
      "Ran 3 tests in 0.005s\n",
      "\n",
      "OK\n"
     ]
    },
    {
     "data": {
      "text/plain": [
       "<unittest.main.TestProgram at 0x104eb3910>"
      ]
     },
     "execution_count": 2,
     "metadata": {},
     "output_type": "execute_result"
    }
   ],
   "source": [
    "def is_valid(s):\n",
    "    pass\n",
    "\n",
    "\n",
    "import unittest\n",
    "\n",
    "class TestTwoSum(unittest.TestCase):    \n",
    "    def test_case_1(self):\n",
    "        s = '()'\n",
    "        expected = True\n",
    "        self.assertEqual(is_valid(s), expected)\n",
    "        \n",
    "    def test_case_2(self):\n",
    "        s = '()[]{}'\n",
    "        expected = True\n",
    "        self.assertEqual(is_valid(s), expected)\n",
    "        \n",
    "    def test_case_3(self):\n",
    "        s = '(]'\n",
    "        expected = False\n",
    "        self.assertEqual(is_valid(s), expected)\n",
    "        \n",
    "        \n",
    "unittest.main(argv=[''], verbosity=2, exit=False)"
   ]
  }
 ],
 "metadata": {
  "kernelspec": {
   "display_name": "Python 3 (ipykernel)",
   "language": "python",
   "name": "python3"
  },
  "language_info": {
   "codemirror_mode": {
    "name": "ipython",
    "version": 3
   },
   "file_extension": ".py",
   "mimetype": "text/x-python",
   "name": "python",
   "nbconvert_exporter": "python",
   "pygments_lexer": "ipython3",
   "version": "3.11.2"
  }
 },
 "nbformat": 4,
 "nbformat_minor": 5
}
