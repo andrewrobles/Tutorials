{
 "cells": [
  {
   "cell_type": "markdown",
   "id": "3b1f822f",
   "metadata": {},
   "source": [
    "# Palindrome Number\n",
    "\n",
    "Given an integer `x`, return `true` if `x` is a ***palindrome***, and `false` otherwise.\n",
    "\n",
    "\n",
    "### Example 1:\n",
    "```\n",
    "Input: x = 121\n",
    "Output: true\n",
    "Explanation: 121 reads as 121 from left to right and from right to left.\n",
    "```\n",
    "\n",
    "### Example 2:\n",
    "\n",
    "```\n",
    "Input: x = -121\n",
    "Output: false\n",
    "Explanation: From left to right, it reads -121. From right to left, it becomes 121-. Therefore it is not a palindrome.\n",
    "```\n",
    "\n",
    "### Example 3:\n",
    "\n",
    "```\n",
    "Input: x = 10\n",
    "Output: false\n",
    "Explanation: Reads 01 from right to left. Therefore it is not a palindrome.\n",
    "```\n",
    "\n",
    "**Follow-up:** Could you solve it without converting the integer to a string?"
   ]
  },
  {
   "cell_type": "code",
   "execution_count": 5,
   "id": "6b620a7e",
   "metadata": {
    "scrolled": true
   },
   "outputs": [
    {
     "name": "stderr",
     "output_type": "stream",
     "text": [
      "test_case_1 (__main__.TestTwoSum.test_case_1) ... ok\n",
      "test_case_2 (__main__.TestTwoSum.test_case_2) ... ok\n",
      "test_case_3 (__main__.TestTwoSum.test_case_3) ... ok\n",
      "\n",
      "----------------------------------------------------------------------\n",
      "Ran 3 tests in 0.007s\n",
      "\n",
      "OK\n"
     ]
    },
    {
     "data": {
      "text/plain": [
       "<unittest.main.TestProgram at 0x1089be850>"
      ]
     },
     "execution_count": 5,
     "metadata": {},
     "output_type": "execute_result"
    }
   ],
   "source": [
    "def is_palindrome(x):\n",
    "    pass\n",
    "\n",
    "\n",
    "import unittest\n",
    "\n",
    "class TestTwoSum(unittest.TestCase):    \n",
    "    def test_case_1(self):\n",
    "        x = 121\n",
    "        expected = True\n",
    "        self.assertEqual(is_palindrome(x), expected)\n",
    "        \n",
    "    def test_case_2(self):\n",
    "        x = -121\n",
    "        expected = False\n",
    "        self.assertEqual(is_palindrome(x), expected)\n",
    "        \n",
    "    def test_case_3(self):\n",
    "        x = 10\n",
    "        expected = False\n",
    "        self.assertEqual(is_palindrome(x), expected)\n",
    "        \n",
    "unittest.main(argv=[''], verbosity=2, exit=False)"
   ]
  },
  {
   "cell_type": "code",
   "execution_count": null,
   "id": "234eac56",
   "metadata": {},
   "outputs": [],
   "source": []
  }
 ],
 "metadata": {
  "kernelspec": {
   "display_name": "Python 3 (ipykernel)",
   "language": "python",
   "name": "python3"
  },
  "language_info": {
   "codemirror_mode": {
    "name": "ipython",
    "version": 3
   },
   "file_extension": ".py",
   "mimetype": "text/x-python",
   "name": "python",
   "nbconvert_exporter": "python",
   "pygments_lexer": "ipython3",
   "version": "3.11.2"
  }
 },
 "nbformat": 4,
 "nbformat_minor": 5
}
