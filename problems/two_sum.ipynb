{
 "cells": [
  {
   "cell_type": "markdown",
   "id": "3b1f822f",
   "metadata": {},
   "source": [
    "# Two Sum\n",
    "\n",
    "Given an array of integers `nums` and an integer `target`, return *indices of the two numbers such that they add up to `target`.*\n",
    "\n",
    "You may assume that each input would have ***exactly*** **one solution**, and you may not use the same element twice.\n",
    "\n",
    "You can return the answer in any order.\n",
    "\n",
    "\n",
    "### Example 1:\n",
    "```\n",
    "Input: nums = [2,7,11,15], target = 9\n",
    "Output: [0,1]\n",
    "Explanation: Because nums[0] + nums[1] == 9, we return [0, 1].\n",
    "```\n",
    "\n",
    "### Example 2:\n",
    "\n",
    "```\n",
    "Input: nums = [3,2,4], target = 6\n",
    "Output: [1,2]\n",
    "```\n",
    "\n",
    "### Example 3:\n",
    "\n",
    "```\n",
    "Input: nums = [3,3], target = 6\n",
    "Output: [0,1]\n",
    "```\n",
    "\n",
    "**Follow-up:** Can you come up with an algorithm that is less than $O(n^2)$ time complexity?"
   ]
  },
  {
   "cell_type": "code",
   "execution_count": 2,
   "id": "6b620a7e",
   "metadata": {
    "scrolled": true
   },
   "outputs": [
    {
     "name": "stderr",
     "output_type": "stream",
     "text": [
      "test_case_1 (__main__.TestTwoSum.test_case_1) ... ok\n",
      "test_case_2 (__main__.TestTwoSum.test_case_2) ... ok\n",
      "test_case_3 (__main__.TestTwoSum.test_case_3) ... ok\n",
      "\n",
      "----------------------------------------------------------------------\n",
      "Ran 3 tests in 0.006s\n",
      "\n",
      "OK\n"
     ]
    },
    {
     "data": {
      "text/plain": [
       "<unittest.main.TestProgram at 0x105eb3790>"
      ]
     },
     "execution_count": 2,
     "metadata": {},
     "output_type": "execute_result"
    }
   ],
   "source": [
    "def two_sum(nums, target):\n",
    "    hashmap = {}\n",
    "    for i in range(len(nums)):\n",
    "        complement = target - nums[i]\n",
    "        if complement in hashmap:\n",
    "            return [i, hashmap[complement]]\n",
    "        hashmap[nums[i]] = i\n",
    "\n",
    "        \n",
    "import unittest\n",
    "\n",
    "class TestTwoSum(unittest.TestCase):    \n",
    "    def test_case_1(self):\n",
    "        nums = [2,7,11,15]\n",
    "        target = 9\n",
    "        expected = [1, 0]\n",
    "        self.assertEqual(two_sum(nums, target), expected)\n",
    "        \n",
    "    def test_case_2(self):\n",
    "        nums = [3, 2, 4]\n",
    "        target = 6\n",
    "        expected = [2, 1]\n",
    "        self.assertEqual(two_sum(nums, target), expected)\n",
    "        \n",
    "    def test_case_3(self):\n",
    "        nums = [3, 3]\n",
    "        target = 6\n",
    "        expected = [1, 0]\n",
    "        self.assertEqual(two_sum(nums, target), expected)\n",
    "        \n",
    "unittest.main(argv=[''], verbosity=2, exit=False)"
   ]
  },
  {
   "cell_type": "code",
   "execution_count": null,
   "id": "234eac56",
   "metadata": {},
   "outputs": [],
   "source": []
  }
 ],
 "metadata": {
  "kernelspec": {
   "display_name": "Python 3 (ipykernel)",
   "language": "python",
   "name": "python3"
  },
  "language_info": {
   "codemirror_mode": {
    "name": "ipython",
    "version": 3
   },
   "file_extension": ".py",
   "mimetype": "text/x-python",
   "name": "python",
   "nbconvert_exporter": "python",
   "pygments_lexer": "ipython3",
   "version": "3.11.2"
  }
 },
 "nbformat": 4,
 "nbformat_minor": 5
}
